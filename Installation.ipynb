{
  "nbformat": 4,
  "nbformat_minor": 0,
  "metadata": {
    "colab": {
      "name": "Installation.ipynb",
      "provenance": []
    },
    "kernelspec": {
      "name": "python3",
      "display_name": "Python 3"
    },
    "language_info": {
      "name": "python"
    }
  },
  "cells": [
    {
      "cell_type": "markdown",
      "source": [
        "**Download TFOD Model**"
      ],
      "metadata": {
        "id": "F9JIujqVkn2f"
      }
    },
    {
      "cell_type": "code",
      "source": [
        "%cd '/content/drive/MyDrive/new/TensorFlow/'\n",
        "!git clone https://github.com/tensorflow/models.git"
      ],
      "metadata": {
        "id": "d0UEnWXCkrMD"
      },
      "execution_count": null,
      "outputs": []
    },
    {
      "cell_type": "markdown",
      "source": [
        "**Install TFOD Model**"
      ],
      "metadata": {
        "id": "VsQOkV28k3h2"
      }
    },
    {
      "cell_type": "code",
      "source": [
        "%cd /content/drive/MyDrive/new/TensorFlow/models/research/\n",
        "!protoc object_detection/protos/*.proto --python_out=.\n",
        "# Install TensorFlow Object Detection API.\n",
        "!cp object_detection/packages/tf2/setup.py .\n",
        "!python -m pip install ."
      ],
      "metadata": {
        "id": "O-EeB8cDk68c"
      },
      "execution_count": null,
      "outputs": []
    },
    {
      "cell_type": "code",
      "source": [
        "!pip uninstall opencv-python-headless==4.5.5.62\n",
        "!pip install opencv-python-headless==4.5.2.52"
      ],
      "metadata": {
        "id": "EdQaZp6IlS-Q"
      },
      "execution_count": null,
      "outputs": []
    },
    {
      "cell_type": "markdown",
      "source": [
        "**Test TFOD Model Installation**"
      ],
      "metadata": {
        "id": "trk9cAZ9lXjW"
      }
    },
    {
      "cell_type": "code",
      "source": [
        "!python /content/drive/MyDrive/new/TensorFlow/models/research/object_detection/builders/model_builder_tf2_test.py"
      ],
      "metadata": {
        "id": "pSWnylo5laL1"
      },
      "execution_count": null,
      "outputs": []
    },
    {
      "cell_type": "markdown",
      "source": [
        "**Train model**"
      ],
      "metadata": {
        "id": "dYmfT20slqyV"
      }
    },
    {
      "cell_type": "code",
      "source": [
        "!python experiments/model_main_tf2.py --model_dir=experiments/reference/ --pipeline_config_path=experiments/reference/pipeline_new.config"
      ],
      "metadata": {
        "id": "rhhlinBNltkZ"
      },
      "execution_count": null,
      "outputs": []
    },
    {
      "cell_type": "markdown",
      "source": [
        "**Evaluate model**"
      ],
      "metadata": {
        "id": "RoDvvOkIl0nj"
      }
    },
    {
      "cell_type": "code",
      "source": [
        "!python experiments/model_main_tf2.py --model_dir=experiments/reference/ --pipeline_config_path=experiments/reference/pipeline_new.config --checkpoint_dir=experiments/reference/"
      ],
      "metadata": {
        "id": "ZzZhbKnfl3Is"
      },
      "execution_count": null,
      "outputs": []
    },
    {
      "cell_type": "markdown",
      "source": [
        "**Export trained model**"
      ],
      "metadata": {
        "id": "-gvbkQCjmNcf"
      }
    },
    {
      "cell_type": "code",
      "source": [
        "!python experiments/exporter_main_v2.py --input_type image_tensor --pipeline_config_path experiments/reference/pipeline_new.config --trained_checkpoint_dir experiments/reference/ --output_directory experiments/reference/exported/"
      ],
      "metadata": {
        "id": "wTjfURYZmQ8P"
      },
      "execution_count": null,
      "outputs": []
    },
    {
      "cell_type": "markdown",
      "source": [
        "**Create Animation**"
      ],
      "metadata": {
        "id": "PIRyJO2Hl8e1"
      }
    },
    {
      "cell_type": "code",
      "source": [
        "!python experiments/exporter_main_v2.py --input_type image_tensor --pipeline_config_path experiments/reference/pipeline_new.config --trained_checkpoint_dir experiments/reference/ --output_directory experiments/reference/exported/"
      ],
      "metadata": {
        "id": "tdJYWB0Rl-EL"
      },
      "execution_count": null,
      "outputs": []
    }
  ]
}