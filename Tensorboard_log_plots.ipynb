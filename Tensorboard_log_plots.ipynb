{
  "nbformat": 4,
  "nbformat_minor": 0,
  "metadata": {
    "colab": {
      "name": "Tensorboard_log_plots.ipynb",
      "provenance": []
    },
    "kernelspec": {
      "name": "python3",
      "display_name": "Python 3"
    },
    "language_info": {
      "name": "python"
    }
  },
  "cells": [
    {
      "cell_type": "code",
      "execution_count": 1,
      "metadata": {
        "id": "yumE0IcEMD1a"
      },
      "outputs": [],
      "source": [
        "import tensorflow as tf"
      ]
    },
    {
      "cell_type": "markdown",
      "source": [
        "The experiment logs have been uploaded to tensorboard.dev and are publicly accessible at the links below. The show the classification loss, localization loss and the learning rate decay. Cosine decay scheduler has been used, the same can be seen in the learining rate decay graph. "
      ],
      "metadata": {
        "id": "NFnwc8paQw8d"
      }
    },
    {
      "cell_type": "markdown",
      "source": [
        "**Experiment 1**\n",
        "tensorboard logs at https://tensorboard.dev/experiment/YRJmuPubRqqWT4VaYD6H7w/#scalars"
      ],
      "metadata": {
        "id": "NKjZ8ZUWiJcV"
      }
    },
    {
      "cell_type": "markdown",
      "source": [
        "**Experiment 2** tensorboard logs at https://tensorboard.dev/experiment/CJrA3RZrQuG4DMQ0KVqNyw/#scalars"
      ],
      "metadata": {
        "id": "TtBLhYEdPWkG"
      }
    },
    {
      "cell_type": "markdown",
      "source": [
        "**Experiment 5** tensorboard logs at https://tensorboard.dev/experiment/G2mb8P4aQxar7QvdZoUpuw/#scalars"
      ],
      "metadata": {
        "id": "C4DKe1CQQDSu"
      }
    },
    {
      "cell_type": "markdown",
      "source": [
        "**Experiment 7** tensorboard logs at https://tensorboard.dev/experiment/agyklavHQAWgDizEOG3o6w/#scalars"
      ],
      "metadata": {
        "id": "hUtKTs1vQlLp"
      }
    },
    {
      "cell_type": "code",
      "source": [
        "!tensorboard dev upload --logdir '/content/drive/MyDrive/nd013-c1-vision-starter/experiments/exp7/training/reference' --name \"Exp-7\" --description \"Experiment 7 Waymo dataset 2D Object detection aspect_ratios: [0.35459628,0.86450212,1.70103675,3.30941172] \\\n",
        "scales_per_octave: 3 \\\n",
        "25k steps, lr=1e-03, 3 scales per octave, cosine decay scheduler, nms score thr=1e-08, iou thr=.6, anchor_ratios=: [0.35459628,0.86450212,1.70103675,3.30941172]\""
      ],
      "metadata": {
        "id": "hd5_nWjmgBE8",
        "colab": {
          "base_uri": "https://localhost:8080/"
        },
        "outputId": "708f10a7-95c4-4e51-d019-517bb2871c22"
      },
      "execution_count": 6,
      "outputs": [
        {
          "output_type": "stream",
          "name": "stdout",
          "text": [
            "2022-07-06 20:44:35.810953: E tensorflow/stream_executor/cuda/cuda_driver.cc:271] failed call to cuInit: CUDA_ERROR_NO_DEVICE: no CUDA-capable device is detected\n",
            "Upload started and will continue reading any new data as it's added to the logdir.\n",
            "\n",
            "To stop uploading, press Ctrl-C.\n",
            "\n",
            "New experiment created. View your TensorBoard at: https://tensorboard.dev/experiment/agyklavHQAWgDizEOG3o6w/\n",
            "\n",
            "\u001b[1m[2022-07-06T20:44:36]\u001b[0m Started scanning logdir.\n",
            "\u001b[1m[2022-07-06T20:44:37]\u001b[0m Total uploaded: 1500 scalars, 0 tensors, 0 binary objects\n",
            "Traceback (most recent call last):\n",
            "  File \"/usr/local/bin/tensorboard\", line 8, in <module>\n",
            "    sys.exit(run_main())\n",
            "  File \"/usr/local/lib/python3.7/dist-packages/tensorboard/main.py\", line 46, in run_main\n",
            "    app.run(tensorboard.main, flags_parser=tensorboard.configure)\n",
            "  File \"/usr/local/lib/python3.7/dist-packages/absl/app.py\", line 312, in run\n",
            "    _run_main(main, args)\n",
            "  File \"/usr/local/lib/python3.7/dist-packages/absl/app.py\", line 258, in _run_main\n",
            "    sys.exit(main(argv))\n",
            "  File \"/usr/local/lib/python3.7/dist-packages/tensorboard/program.py\", line 276, in main\n",
            "    return runner(self.flags) or 0\n",
            "  File \"/usr/local/lib/python3.7/dist-packages/tensorboard/uploader/uploader_subcommand.py\", line 692, in run\n",
            "    return _run(flags, self._experiment_url_callback)\n",
            "  File \"/usr/local/lib/python3.7/dist-packages/tensorboard/uploader/uploader_subcommand.py\", line 125, in _run\n",
            "    intent.execute(server_info, channel)\n",
            "  File \"/usr/local/lib/python3.7/dist-packages/tensorboard/uploader/uploader_subcommand.py\", line 506, in execute\n",
            "    if not self.dry_run and uploader.has_data():\n",
            "  File \"/usr/local/lib/python3.7/dist-packages/tensorboard/uploader/uploader.py\", line 162, in has_data\n",
            "    return self._tracker.has_data()\n",
            "  File \"/usr/local/lib/python3.7/dist-packages/tensorboard/uploader/upload_tracker.py\", line 303, in has_data\n",
            "    return self._stats.has_data()\n",
            "KeyboardInterrupt\n"
          ]
        }
      ]
    },
    {
      "cell_type": "code",
      "source": [
        ""
      ],
      "metadata": {
        "id": "EURKvbTdguOt"
      },
      "execution_count": null,
      "outputs": []
    }
  ]
}